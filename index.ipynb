{
 "cells": [
  {
   "cell_type": "markdown",
   "metadata": {},
   "source": [
    "# Polynomial Regression - Lab"
   ]
  },
  {
   "cell_type": "markdown",
   "metadata": {},
   "source": [
    "## Introduction"
   ]
  },
  {
   "cell_type": "markdown",
   "metadata": {},
   "source": [
    "In this lab, you'll practice your knowledge on adding polynomial terms to your regression model! "
   ]
  },
  {
   "cell_type": "markdown",
   "metadata": {},
   "source": [
    "## Objectives"
   ]
  },
  {
   "cell_type": "markdown",
   "metadata": {},
   "source": [
    "You will be able to:\n",
    "\n",
    "* Determine if polynomial regression would be useful for a specific model or set of data\n",
    "* Create polynomial terms out of independent variables in linear regression"
   ]
  },
  {
   "cell_type": "markdown",
   "metadata": {},
   "source": [
    "## Dataset"
   ]
  },
  {
   "cell_type": "markdown",
   "metadata": {},
   "source": [
    "For this lab you'll be using some generated data:"
   ]
  },
  {
   "cell_type": "code",
   "execution_count": 8,
   "metadata": {},
   "outputs": [
    {
     "data": {
      "text/html": [
       "<div>\n",
       "<style scoped>\n",
       "    .dataframe tbody tr th:only-of-type {\n",
       "        vertical-align: middle;\n",
       "    }\n",
       "\n",
       "    .dataframe tbody tr th {\n",
       "        vertical-align: top;\n",
       "    }\n",
       "\n",
       "    .dataframe thead th {\n",
       "        text-align: right;\n",
       "    }\n",
       "</style>\n",
       "<table border=\"1\" class=\"dataframe\">\n",
       "  <thead>\n",
       "    <tr style=\"text-align: right;\">\n",
       "      <th></th>\n",
       "      <th>x</th>\n",
       "      <th>y</th>\n",
       "    </tr>\n",
       "  </thead>\n",
       "  <tbody>\n",
       "    <tr>\n",
       "      <th>0</th>\n",
       "      <td>0.000000</td>\n",
       "      <td>0.942870</td>\n",
       "    </tr>\n",
       "    <tr>\n",
       "      <th>1</th>\n",
       "      <td>0.121212</td>\n",
       "      <td>-2.261629</td>\n",
       "    </tr>\n",
       "    <tr>\n",
       "      <th>2</th>\n",
       "      <td>0.242424</td>\n",
       "      <td>3.100749</td>\n",
       "    </tr>\n",
       "    <tr>\n",
       "      <th>3</th>\n",
       "      <td>0.363636</td>\n",
       "      <td>-0.285446</td>\n",
       "    </tr>\n",
       "    <tr>\n",
       "      <th>4</th>\n",
       "      <td>0.484848</td>\n",
       "      <td>-1.012210</td>\n",
       "    </tr>\n",
       "  </tbody>\n",
       "</table>\n",
       "</div>"
      ],
      "text/plain": [
       "          x         y\n",
       "0  0.000000  0.942870\n",
       "1  0.121212 -2.261629\n",
       "2  0.242424  3.100749\n",
       "3  0.363636 -0.285446\n",
       "4  0.484848 -1.012210"
      ]
     },
     "execution_count": 8,
     "metadata": {},
     "output_type": "execute_result"
    }
   ],
   "source": [
    "# Run this cell without changes\n",
    "import numpy as np\n",
    "import pandas as pd\n",
    "import matplotlib.pyplot as plt\n",
    "%matplotlib inline\n",
    "\n",
    "df = pd.read_csv('sample_data.csv')\n",
    "df.head()"
   ]
  },
  {
   "cell_type": "markdown",
   "metadata": {},
   "source": [
    "Let's check out a scatter plot of `x` vs. `y`: "
   ]
  },
  {
   "cell_type": "code",
   "execution_count": 10,
   "metadata": {},
   "outputs": [],
   "source": [
    "# Run this cell without changes\n",
    "df.plot.scatter(x=\"x\", y=\"y\");"
   ]
  },
  {
   "cell_type": "markdown",
   "metadata": {},
   "source": [
    "You will notice that the data is clearly of non-linear shape. Begin to think about what degree polynomial you believe will fit it best.\n",
    "\n",
    "You will fit several different models with different polynomial degrees, then plot them in the same plot at the end."
   ]
  },
  {
   "cell_type": "code",
   "execution_count": 12,
   "metadata": {},
   "outputs": [],
   "source": [
    "# Your code here - import StatsModels and separate the data into X and y\n",
    "\n",
    "import statsmodels.api as sm\n",
    "from statsmodels.formula.api import ols\n",
    "\n",
    "# Separating features and target\n",
    "X = df[\"x\"]\n",
    "y = df[\"y\"]"
   ]
  },
  {
   "cell_type": "markdown",
   "metadata": {},
   "source": [
    "## Build and Evaluate a Quadratic Model\n",
    "\n",
    "This model should include a constant, `x`, and `x` squared. You can use `pandas` or `PolynomialFeatures` to create the squared term."
   ]
  },
  {
   "cell_type": "code",
   "execution_count": 14,
   "metadata": {},
   "outputs": [],
   "source": [
    "# Your code here - prepare quadratic data and fit a model\n",
    "\n",
    "# Creating squared term\n",
    "df[\"x2\"] = df[\"x\"] ** 2\n",
    "\n",
    "# Fitting a quadratic regression model: y ~ x + x^2\n",
    "model_quadratic = ols(\"y ~ x + x2\", data=df).fit()"
   ]
  },
  {
   "cell_type": "code",
   "execution_count": 15,
   "metadata": {},
   "outputs": [
    {
     "name": "stdout",
     "output_type": "stream",
     "text": [
      "                            OLS Regression Results                            \n",
      "==============================================================================\n",
      "Dep. Variable:                      y   R-squared:                       0.005\n",
      "Model:                            OLS   Adj. R-squared:                 -0.016\n",
      "Method:                 Least Squares   F-statistic:                    0.2366\n",
      "Date:                Sat, 19 Apr 2025   Prob (F-statistic):              0.790\n",
      "Time:                        17:06:48   Log-Likelihood:                -299.64\n",
      "No. Observations:                 100   AIC:                             605.3\n",
      "Df Residuals:                      97   BIC:                             613.1\n",
      "Df Model:                           2                                         \n",
      "Covariance Type:            nonrobust                                         \n",
      "==============================================================================\n",
      "                 coef    std err          t      P>|t|      [0.025      0.975]\n",
      "------------------------------------------------------------------------------\n",
      "Intercept      0.1127      1.446      0.078      0.938      -2.757       2.983\n",
      "x             -0.0744      0.557     -0.134      0.894      -1.180       1.031\n",
      "x2            -0.0018      0.045     -0.041      0.967      -0.091       0.087\n",
      "==============================================================================\n",
      "Omnibus:                        1.048   Durbin-Watson:                   0.426\n",
      "Prob(Omnibus):                  0.592   Jarque-Bera (JB):                0.803\n",
      "Skew:                          -0.219   Prob(JB):                        0.669\n",
      "Kurtosis:                       3.037   Cond. No.                         203.\n",
      "==============================================================================\n",
      "\n",
      "Notes:\n",
      "[1] Standard Errors assume that the covariance matrix of the errors is correctly specified.\n"
     ]
    }
   ],
   "source": [
    "# Your code here - evaluate (adjusted) R-Squared and coefficient p-values\n",
    "\n",
    "# Regression summary \n",
    "print(model_quadratic.summary())"
   ]
  },
  {
   "cell_type": "markdown",
   "metadata": {},
   "source": [
    "### Your written answer here - summarize findings\n",
    "\n",
    "**Summary of Findings from the Quadratic Regression Model**\n",
    "- **Adjusted R-squared: -0.016 (negative):** which is worse than zero, indicating that the model performs worse than simply predicting the mean of y for every observation.\n",
    "- **R-squared: 0.005:** meaning the model explains only 0.5% of the variance in the dependent variable — essentially no explanatory power.\n",
    "\n",
    "**p-values: Intercept: 0.938, x: 0.894, x²: 0.967:**\n",
    "- These high p-values (>> 0.05) indicate that none of the model terms are statistically significant — there is no evidence that x or x² are useful predictors of y.\n",
    "\n",
    "**F-statistic p-value: 0.790:** also very high, meaning the overall model is not statistically significant.\n",
    "\n",
    "**Conclusion**\n",
    "The quadratic model does not improve the fit compared to a flat model. There's no meaningful relationship between x and y in this specific dataset.\n"
   ]
  },
  {
   "cell_type": "markdown",
   "metadata": {},
   "source": [
    "<details>\n",
    "    <summary style=\"cursor: pointer\"><b>Answer (click to reveal)</b></summary>\n",
    "    \n",
    "This is not a good model. Because we have multiple terms and are explaining so little of the variance in `y`, we actually have a negative adjusted R-Squared.\n",
    "\n",
    "None of the coefficients are statistically significant at an alpha of 0.05\n",
    "    \n",
    "</details>"
   ]
  },
  {
   "cell_type": "markdown",
   "metadata": {},
   "source": [
    "## Build and Evaluate a 4th Degree Polynomial Model\n",
    "\n",
    "In other words, the model should include $x^0$ (intercept), $x^1$, $x^2$, $x^3$, and $x^4$ terms.\n",
    "\n",
    "At this point we recommend importing and using `PolynomialFeatures` if you haven't already!"
   ]
  },
  {
   "cell_type": "code",
   "execution_count": 19,
   "metadata": {},
   "outputs": [],
   "source": [
    "# Your code here - prepare 4th degree polynomial data and fit a model\n",
    "\n",
    "from sklearn.preprocessing import PolynomialFeatures\n",
    "\n",
    "# Separating X and y\n",
    "X = df[[\"x\"]]\n",
    "y = df[\"y\"]\n",
    "\n",
    "# Generating polynomial features up to degree 4\n",
    "poly = PolynomialFeatures(degree=4, include_bias=False)\n",
    "X_poly = poly.fit_transform(X)\n",
    "\n",
    "# Converting to DataFrame for easier labeling\n",
    "X_poly_df = pd.DataFrame(X_poly, columns=[\"x\", \"x2\", \"x3\", \"x4\"])\n",
    "\n",
    "# Adding constant intercept\n",
    "X_poly_df = sm.add_constant(X_poly_df)\n",
    "\n",
    "# Fitting the model using OLS\n",
    "model_4th = sm.OLS(y, X_poly_df).fit()"
   ]
  },
  {
   "cell_type": "code",
   "execution_count": 20,
   "metadata": {},
   "outputs": [
    {
     "name": "stdout",
     "output_type": "stream",
     "text": [
      "                            OLS Regression Results                            \n",
      "==============================================================================\n",
      "Dep. Variable:                      y   R-squared:                       0.584\n",
      "Model:                            OLS   Adj. R-squared:                  0.567\n",
      "Method:                 Least Squares   F-statistic:                     33.38\n",
      "Date:                Sat, 19 Apr 2025   Prob (F-statistic):           2.24e-17\n",
      "Time:                        17:06:48   Log-Likelihood:                -255.99\n",
      "No. Observations:                 100   AIC:                             522.0\n",
      "Df Residuals:                      95   BIC:                             535.0\n",
      "Df Model:                           4                                         \n",
      "Covariance Type:            nonrobust                                         \n",
      "==============================================================================\n",
      "                 coef    std err          t      P>|t|      [0.025      0.975]\n",
      "------------------------------------------------------------------------------\n",
      "const          5.8590      1.514      3.870      0.000       2.853       8.864\n",
      "x            -12.6406      1.767     -7.155      0.000     -16.148      -9.133\n",
      "x2             5.3802      0.603      8.921      0.000       4.183       6.577\n",
      "x3            -0.7563      0.076     -9.992      0.000      -0.907      -0.606\n",
      "x4             0.0333      0.003     10.632      0.000       0.027       0.039\n",
      "==============================================================================\n",
      "Omnibus:                        1.211   Durbin-Watson:                   1.007\n",
      "Prob(Omnibus):                  0.546   Jarque-Bera (JB):                1.177\n",
      "Skew:                          -0.257   Prob(JB):                        0.555\n",
      "Kurtosis:                       2.861   Cond. No.                     5.08e+04\n",
      "==============================================================================\n",
      "\n",
      "Notes:\n",
      "[1] Standard Errors assume that the covariance matrix of the errors is correctly specified.\n",
      "[2] The condition number is large, 5.08e+04. This might indicate that there are\n",
      "strong multicollinearity or other numerical problems.\n"
     ]
    }
   ],
   "source": [
    "# Your code here - evaluate (adjusted) R-Squared and coefficient p-values\n",
    "\n",
    "# Model summary\n",
    "print(model_4th.summary())"
   ]
  },
  {
   "cell_type": "markdown",
   "metadata": {},
   "source": [
    "### Your written answer here - summarize findings\n",
    "\n",
    "**Summary of Findings – 4th Degree Polynomial Model**\n",
    "The 4th-degree polynomial regression model performs significantly better than the quadratic model. \n",
    "\n",
    "**Model Fit (Goodness of Fit)**\n",
    "- **R-squared = 0.584, Adjusted R-squared = 0.567:** This means that about 58.4% of the variance in y is explained by the model, which is a huge improvement from the quadratic model (R² ≈ 0.005). The adjusted R-squared also confirms this improvement, accounting for model complexity.\n",
    "\n",
    "**F-statistic = 33.38 with p-value = 2.24e-17:** This indicates that the overall model is highly statistically significant.\n",
    "- All the coefficients (x, x², x³, x⁴) are Statistically significant (p < 0.001)\n",
    "- The model captures the complex, nonlinear relationship between x and y much more accurately.\n",
    "- The high condition number (5.08e+04) suggests multicollinearity, and does not impact the model performance significantly.\n",
    "\n",
    "**Conclusion:** The 4th-degree polynomial model provides a strong and statistically reliable fit for the data."
   ]
  },
  {
   "cell_type": "markdown",
   "metadata": {},
   "source": [
    "<details>\n",
    "    <summary style=\"cursor: pointer\"><b>Answer (click to reveal)</b></summary>\n",
    "    \n",
    "This is much better. We are explaining 57-58% of the variance in the target and all of our coefficients are statistically significant at an alpha of 0.05.\n",
    "    \n",
    "</details>"
   ]
  },
  {
   "cell_type": "markdown",
   "metadata": {},
   "source": [
    "## Build and Evaluate an 8th Degree Polynomial Model\n",
    "\n",
    "This model should include $x^0$ through $x^8$."
   ]
  },
  {
   "cell_type": "code",
   "execution_count": 24,
   "metadata": {},
   "outputs": [],
   "source": [
    "# Your code here - prepare 8th degree polynomial data and fit a model\n",
    "\n",
    "# Separating X and y\n",
    "X = df[[\"x\"]]\n",
    "y = df[\"y\"]\n",
    "\n",
    "# Generating polynomial features up to degree 8\n",
    "poly = PolynomialFeatures(degree=8, include_bias=False)\n",
    "X_poly = poly.fit_transform(X)\n",
    "\n",
    "# Converting to DataFrame for easier labeling\n",
    "X_poly_df = pd.DataFrame(X_poly, columns=[\"x\", \"x2\", \"x3\", \"x4\", \"x5\", \"x6\", \"x7\", \"x8\"])\n",
    "\n",
    "# Adding constant intercept\n",
    "X_poly_df = sm.add_constant(X_poly_df)\n",
    "\n",
    "# Fitting the model using OLS\n",
    "model_8th = sm.OLS(y, X_poly_df).fit()"
   ]
  },
  {
   "cell_type": "code",
   "execution_count": 25,
   "metadata": {},
   "outputs": [
    {
     "name": "stdout",
     "output_type": "stream",
     "text": [
      "                            OLS Regression Results                            \n",
      "==============================================================================\n",
      "Dep. Variable:                      y   R-squared:                       0.834\n",
      "Model:                            OLS   Adj. R-squared:                  0.819\n",
      "Method:                 Least Squares   F-statistic:                     56.95\n",
      "Date:                Sat, 19 Apr 2025   Prob (F-statistic):           3.93e-32\n",
      "Time:                        17:06:49   Log-Likelihood:                -210.25\n",
      "No. Observations:                 100   AIC:                             438.5\n",
      "Df Residuals:                      91   BIC:                             461.9\n",
      "Df Model:                           8                                         \n",
      "Covariance Type:            nonrobust                                         \n",
      "==============================================================================\n",
      "                 coef    std err          t      P>|t|      [0.025      0.975]\n",
      "------------------------------------------------------------------------------\n",
      "const          0.6335      1.550      0.409      0.684      -2.446       3.713\n",
      "x             -3.1197      6.237     -0.500      0.618     -15.508       9.269\n",
      "x2             7.2069      8.019      0.899      0.371      -8.722      23.135\n",
      "x3            -5.9515      4.602     -1.293      0.199     -15.092       3.189\n",
      "x4             2.0415      1.388      1.471      0.145      -0.716       4.799\n",
      "x5            -0.3359      0.236     -1.425      0.158      -0.804       0.132\n",
      "x6             0.0276      0.023      1.220      0.226      -0.017       0.073\n",
      "x7            -0.0011      0.001     -0.925      0.357      -0.003       0.001\n",
      "x8          1.418e-05   2.39e-05      0.594      0.554   -3.33e-05    6.16e-05\n",
      "==============================================================================\n",
      "Omnibus:                       11.607   Durbin-Watson:                   2.456\n",
      "Prob(Omnibus):                  0.003   Jarque-Bera (JB):               12.576\n",
      "Skew:                          -0.700   Prob(JB):                      0.00186\n",
      "Kurtosis:                       4.030   Cond. No.                     5.83e+09\n",
      "==============================================================================\n",
      "\n",
      "Notes:\n",
      "[1] Standard Errors assume that the covariance matrix of the errors is correctly specified.\n",
      "[2] The condition number is large, 5.83e+09. This might indicate that there are\n",
      "strong multicollinearity or other numerical problems.\n"
     ]
    }
   ],
   "source": [
    "# Your code here - evaluate (adjusted) R-Squared and coefficient p-values\n",
    "\n",
    "print(model_8th.summary())"
   ]
  },
  {
   "cell_type": "markdown",
   "metadata": {},
   "source": [
    "### Your written answer here - summarize findings\n",
    "\n",
    "**Summary of 8th Degree Polynomial Model**\n",
    "1. Model Fit:\n",
    "- **R-squared = 0.834:** The model explains approximately 83.4% of the variance in the dependent variable (y), indicating a strong fit.\n",
    "- **Adjusted R-squared = 0.819:** After adjusting for the number of predictors, the model still explains a significant portion of the variance.\n",
    "- **F-statistic = 56.95 (p-value = 3.93e-32):** The model is statistically significant as a whole.\n",
    "\n",
    "**Constant (Intercept): Coefficient = 0.6335, p-value = 0.684 (not significant)**\n",
    "\n",
    "**Polynomial Terms:**\n",
    "  - x: Coefficient = -3.1197, p-value = 0.618 (not significant).\n",
    "  - x²: Coefficient = 7.2069, p-value = 0.371 (not significant).\n",
    "  - Higher-order terms (x³ to x⁸) are also not statistically significant with p-values greater than 0.05.\n",
    "\n",
    "**Diagnostics:**\n",
    "- Omnibus Test: p-value = 0.003 (indicates potential non-normality in residuals).\n",
    "- Durbin-Watson Statistic = 2.456: No significant autocorrelation in residuals.\n",
    "- Jarque-Bera Test: p-value = 0.00186 (suggests some skewness or kurtosis).\n",
    "- Multicollinearity: Condition number = 5.83e+09 (indicates potential multicollinearity due to highly correlated polynomial terms)\n",
    "\n",
    "**Conclusion:**\n",
    "The model fits the data well (R² = 0.834), but many of the polynomial terms are not statistically significant, suggesting overfitting with higher-degree terms."
   ]
  },
  {
   "cell_type": "markdown",
   "metadata": {},
   "source": [
    "<details>\n",
    "    <summary style=\"cursor: pointer\"><b>Answer (click to reveal)</b></summary>\n",
    "    \n",
    "Our R-Squared is higher, but none of the coefficients are statistically significant at an alpha of 0.05 any more. If what we care about is an inferential understanding of the data, this is too high a degree of the polynomial.\n",
    "    \n",
    "</details>"
   ]
  },
  {
   "cell_type": "markdown",
   "metadata": {},
   "source": [
    "## Plot All Models\n",
    "\n",
    "Build a single plot that shows the raw data as a scatter plot, as well as all of the models you have developed as line graphs. Make sure that everything is labeled so you can tell the different models apart!"
   ]
  },
  {
   "cell_type": "code",
   "execution_count": 45,
   "metadata": {},
   "outputs": [
    {
     "data": {
      "image/png": "[encoded data removed]",
      "text/plain": [
       "<Figure size 1200x600 with 1 Axes>"
      ]
     },
     "metadata": {},
     "output_type": "display_data"
    }
   ],
   "source": [
    "from sklearn.linear_model import LinearRegression\n",
    "from sklearn.preprocessing import PolynomialFeatures\n",
    "\n",
    "# Convert X to numpy array if it's a DataFrame\n",
    "X_np = X.values.reshape(-1, 1)\n",
    "\n",
    "# Linear Model (Degree 1)\n",
    "lin_reg = LinearRegression()\n",
    "lin_reg.fit(X_np, y)\n",
    "\n",
    "# Polynomial Features (Degree 2)\n",
    "poly2 = PolynomialFeatures(degree=2, include_bias=False)\n",
    "X_poly2 = poly2.fit_transform(X_np)\n",
    "poly2_reg = LinearRegression()\n",
    "poly2_reg.fit(X_poly2, y)\n",
    "\n",
    "# Polynomial Features (Degree 4)\n",
    "poly4 = PolynomialFeatures(degree=4, include_bias=False)\n",
    "X_poly4 = poly4.fit_transform(X_np)\n",
    "poly4_reg = LinearRegression()\n",
    "poly4_reg.fit(X_poly4, y)\n",
    "\n",
    "# Polynomial Features (Degree 8)\n",
    "poly8 = PolynomialFeatures(degree=8, include_bias=False)\n",
    "X_poly8 = poly8.fit_transform(X_np)\n",
    "poly8_reg = LinearRegression()\n",
    "poly8_reg.fit(X_poly8, y)\n",
    "\n",
    "# Predictions for plotting\n",
    "X_range = np.linspace(X_np.min() - 1, X_np.max() + 1, 300).reshape(-1, 1)\n",
    "y_lin_pred = lin_reg.predict(X_range)\n",
    "y_poly2_pred = poly2_reg.predict(poly2.transform(X_range))\n",
    "y_poly4_pred = poly4_reg.predict(poly4.transform(X_range))\n",
    "y_poly8_pred = poly8_reg.predict(poly8.transform(X_range))\n",
    "\n",
    "# Plotting\n",
    "plt.figure(figsize=(12, 6))\n",
    "\n",
    "# Scatter plot for the raw data\n",
    "plt.scatter(X, y, color='black', label='Raw Data', alpha=0.6)\n",
    "\n",
    "# Line plots for different models\n",
    "plt.plot(X_range, y_lin_pred, label='Linear Model (Degree 1)', color='blue', linewidth=2)\n",
    "plt.plot(X_range, y_poly2_pred, label='Quadratic Model (Degree 2)', color='green', linewidth=2)\n",
    "plt.plot(X_range, y_poly4_pred, label='4th Degree Polynomial', color='red', linewidth=2)\n",
    "plt.plot(X_range, y_poly8_pred, label='8th Degree Polynomial', color='orange', linewidth=2)\n",
    "\n",
    "# Adding labels and title\n",
    "plt.xlabel('X')\n",
    "plt.ylabel('y')\n",
    "plt.title('Comparison of Polynomial Regression Models')\n",
    "plt.legend()\n",
    "plt.grid(True)\n",
    "\n",
    "plt.tight_layout()\n",
    "plt.show()"
   ]
  },
  {
   "cell_type": "markdown",
   "metadata": {},
   "source": [
    "### Interpret Findings\n",
    "\n",
    "Based on the metrics as well as the graphs, which model do you think is the best? Why?"
   ]
  },
  {
   "cell_type": "markdown",
   "metadata": {},
   "source": [
    "### Your written answer here\n",
    "\n",
    "**Best Model Recommendation:**\n",
    "The 4th-degree polynomial model appears to be the best overall.\n",
    "\n",
    "**Why?**\n",
    "- Good balance of R² and model simplicity.\n",
    "- Avoids overfitting seen in the 8th-degree model.\n",
    "- Graphically captures the non-linear trends in the data without being too wiggly.\n",
    "- More coefficients are likely to be statistically meaningful compared to degree 8."
   ]
  },
  {
   "cell_type": "markdown",
   "metadata": {},
   "source": [
    "<details>\n",
    "    <summary style=\"cursor: pointer\"><b>Answer (click to reveal)</b></summary>\n",
    "    \n",
    "The quadratic model (polynomial degree 2) is definitely not the best based on all of the evidence we have. It has the worst R-Squared, the coefficient p-values are not significant, and you can see from the graph that there is a lot of variance in the data that it is not picking up on.\n",
    "\n",
    "Our visual inspection aligns with the worse R-Squared for the 4th degree polynomial compared to the 8th degree polynomial. The 4th degree polynomial is flatter and doesn't seem to capture the extremes of the data as well.\n",
    "    \n",
    "However if we wanted to interpret the coefficients, then only the 4th degree polynomial has statistically significant results. The interpretation would be challenging because of the number of terms, but we could apply some calculus techniques to describe inflection points.\n",
    "\n",
    "Overall it appears that this dataset is not particularly well suited to an inferential linear regression approach, even with polynomial transformations. So the \"best\" model could be either the 4th or 8th degree polynomial depending on which aspect of the model is more important to you, but either way it will be challenging to translate it into insights for stakeholders.\n",
    "    \n",
    "</details>"
   ]
  },
  {
   "cell_type": "markdown",
   "metadata": {},
   "source": [
    "## Summary"
   ]
  },
  {
   "cell_type": "markdown",
   "metadata": {},
   "source": [
    "Great job! You now know how to include polynomials in your linear models as well as the limitations of applying polynomial regression. "
   ]
  }
 ],
 "metadata": {
  "kernelspec": {
   "display_name": "Python [conda env:base] *",
   "language": "python",
   "name": "conda-base-py"
  },
  "language_info": {
   "codemirror_mode": {
    "name": "ipython",
    "version": 3
   },
   "file_extension": ".py",
   "mimetype": "text/x-python",
   "name": "python",
   "nbconvert_exporter": "python",
   "pygments_lexer": "ipython3",
   "version": "3.12.3"
  }
 },
 "nbformat": 4,
 "nbformat_minor": 4
}
