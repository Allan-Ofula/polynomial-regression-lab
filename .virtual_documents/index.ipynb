




















# Run this cell without changes
import numpy as np
import pandas as pd
import matplotlib.pyplot as plt
get_ipython().run_line_magic("matplotlib", " inline")

df = pd.read_csv('sample_data.csv')
df.head()





# Run this cell without changes
df.plot.scatter(x="x", y="y");





# Your code here - import StatsModels and separate the data into X and y

import statsmodels.api as sm
from statsmodels.formula.api import ols

# Separating features and target
X = df["x"]
y = df["y"]





# Your code here - prepare quadratic data and fit a model

# Creating squared term
df["x2"] = df["x"] ** 2

# Fitting a quadratic regression model: y ~ x + x^2
model_quadratic = ols("y ~ x + x2", data=df).fit()


# Your code here - evaluate (adjusted) R-Squared and coefficient p-values

# Regression summary 
print(model_quadratic.summary())











# Your code here - prepare 4th degree polynomial data and fit a model

from sklearn.preprocessing import PolynomialFeatures

# Separating X and y
X = df[["x"]]
y = df["y"]

# Generating polynomial features up to degree 4
poly = PolynomialFeatures(degree=4, include_bias=False)
X_poly = poly.fit_transform(X)

# Converting to DataFrame for easier labeling
X_poly_df = pd.DataFrame(X_poly, columns=["x", "x2", "x3", "x4"])

# Adding constant intercept
X_poly_df = sm.add_constant(X_poly_df)

# Fitting the model using OLS
model_4th = sm.OLS(y, X_poly_df).fit()


# Your code here - evaluate (adjusted) R-Squared and coefficient p-values

# Model summary
print(model_4th.summary())











# Your code here - prepare 8th degree polynomial data and fit a model

# Separating X and y
X = df[["x"]]
y = df["y"]

# Generating polynomial features up to degree 8
poly = PolynomialFeatures(degree=8, include_bias=False)
X_poly = poly.fit_transform(X)

# Converting to DataFrame for easier labeling
X_poly_df = pd.DataFrame(X_poly, columns=["x", "x2", "x3", "x4", "x5", "x6", "x7", "x8"])

# Adding constant intercept
X_poly_df = sm.add_constant(X_poly_df)

# Fitting the model using OLS
model_8th = sm.OLS(y, X_poly_df).fit()


# Your code here - evaluate (adjusted) R-Squared and coefficient p-values

print(model_8th.summary())

















# Your written answer here










